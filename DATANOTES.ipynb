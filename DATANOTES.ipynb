{
  "nbformat": 4,
  "nbformat_minor": 0,
  "metadata": {
    "colab": {
      "provenance": []
    },
    "kernelspec": {
      "name": "python3",
      "display_name": "Python 3"
    },
    "language_info": {
      "name": "python"
    }
  },
  "cells": [
    {
      "cell_type": "code",
      "execution_count": 20,
      "metadata": {
        "colab": {
          "base_uri": "https://localhost:8080/"
        },
        "id": "4sLkEs5Sw8FT",
        "outputId": "4d5a17c6-3fd3-4a1f-a8f7-c3ce21f09f82"
      },
      "outputs": [
        {
          "output_type": "stream",
          "name": "stdout",
          "text": [
            "Downloading...\n",
            "From: https://drive.google.com/uc?id=1RR2W4Sxid0T18pThz72uzKxkF17EUdRm\n",
            "To: /content/trips.csv\n",
            "100% 140M/140M [00:00<00:00, 192MB/s]\n"
          ]
        }
      ],
      "source": [
        "!gdown '1RR2W4Sxid0T18pThz72uzKxkF17EUdRm'"
      ]
    },
    {
      "cell_type": "code",
      "source": [
        "import sys\n",
        "import csv\n",
        "from datetime import datetime"
      ],
      "metadata": {
        "id": "S7LL3xA8ytYh"
      },
      "execution_count": 21,
      "outputs": []
    },
    {
      "cell_type": "code",
      "source": [
        "#Question 1 containers\n",
        "\n",
        "#1a Containers\n",
        "weekday={'Primary':0,'Broker':0,'E-Hail':0,'Total':0}\n",
        "weekend={'Primary':0,'Broker':0,'E-Hail':0,'Total':0}\n",
        "total={}\n",
        "Table1=[weekday,weekend,total]\n",
        "    \n",
        "#1b Containers   \n",
        "weekdayAve={'Primary':0,'Broker':0,'E-Hail':0,'Total':0}\n",
        "weekendAve={'Primary':0,'Broker':0,'E-Hail':0,'Total':0}\n",
        "totalAve={}\n",
        "Table2=[weekdayAve,weekendAve,totalAve]\n",
        "#1c Containers    \n",
        "weekday3={'Primary':0,'Broker':0,'E-Hail':0,'Total':0}\n",
        "weekend3={'Primary':0,'Broker':0,'E-Hail':0,'Total':0}\n",
        "total3={}\n",
        "Table3=[weekday3,weekend3,total3]"
      ],
      "metadata": {
        "id": "_wwOgGqRyMvf"
      },
      "execution_count": 22,
      "outputs": []
    },
    {
      "cell_type": "code",
      "source": [
        "#Question 2 container\n",
        "histData={}\n",
        "\n",
        "\n",
        "#question3 container\n",
        "zipcodes={}"
      ],
      "metadata": {
        "id": "bmPqTtvf6G6_"
      },
      "execution_count": 23,
      "outputs": []
    },
    {
      "cell_type": "code",
      "execution_count": 24,
      "metadata": {
        "id": "Q-Cl5XzEjP3-"
      },
      "outputs": [],
      "source": [
        "#getting the data from the file and filling the containers\n",
        "with open('trips.csv', 'r') as fi:\n",
        "    reader = csv.DictReader(fi)  \n",
        "    for row in reader:\n",
        "        provider= row['ProviderType']\n",
        "        status=row['Outcome']\n",
        "        date=row['Tripdate']\n",
        "        day=datetime.strptime(date, '%Y-%m-%d').strftime('%w')#day is a number\n",
        "        # from 1-7 to represent the days of the week-->type string\n",
        "        time=row['ADtime']\n",
        "        \n",
        "        #task1 container filling\n",
        "        if (provider in weekday.keys()):\n",
        "            if int(day)<6:\n",
        "                weekdayAve[provider]+=1\n",
        "                if status=='Authorized' or  status=='Completed':#number of succesful trips\n",
        "                    weekday[provider]+=1\n",
        "            else:\n",
        "                weekendAve[provider]+=1\n",
        "                if status=='Authorized' or  status=='Completed':#number of succesful trips\n",
        "                    weekend[provider]+=1\n",
        "        #task2 container filling\n",
        "        if status=='Authorized' or  status=='Completed':\n",
        "          time=row['ADtime']\n",
        "          x=int(time.split(':')[0])\n",
        "          if x>-1: #the file had some negative times\n",
        "            if x>23: #file had some hours >23\n",
        "              histData[x-24]=histData.get(x-24,0)+1\n",
        "            else:\n",
        "              histData[x]=histData.get(x,0)+1\n",
        "        \n",
        "        #task 3 container filling\n",
        "        if provider==\"Primary\" and (status=='Authorized' or  status=='Completed'):\n",
        "          hour1=datetime.strptime('6:00', \"%H:%M\").time()#turn 6:00 into a datetime object\n",
        "          hour2=datetime.strptime('10:00', \"%H:%M\").time()#turn 10:00 into a datetime object\n",
        "          x=int(time.split(':')[0]) #this is to include the time that is >23\n",
        "          if x>-1:\n",
        "            if x>23:\n",
        "              x=x-24\n",
        "              time=':'.join([str(x),time.split(':')[1]])#turn the result into a datetime object\n",
        "          time1=datetime.strptime(time, \"%H:%M\").time()\n",
        "          if(time1>=hour1 and time1<=hour2):\n",
        "            zip=row['PickZip']\n",
        "            zipcodes[zip]=zipcodes.get(zip,0)+1\n",
        "\n",
        "\n",
        "        \n",
        "   "
      ]
    },
    {
      "cell_type": "code",
      "source": [
        "#task 1\n",
        "#task 1a\n",
        "for key in weekday:\n",
        "    total[key]=weekday[key]+weekend[key]\n",
        "    totalAve[key]=weekdayAve[key]+weekendAve[key] #part of task 1b\n",
        "    if key !='Total':\n",
        "      weekday['Total']+=weekday[key]\n",
        "      weekend['Total']+=weekend[key]\n",
        "      weekdayAve['Total']+=weekdayAve[key] #part of task 1b\n",
        "      weekendAve['Total']+=weekendAve[key] #part of task 1b\n",
        "            \n",
        "        \n",
        "# task 1c        \n",
        "for key in weekdayAve:\n",
        "    weekday3[key]=\"{:.2%}\".format(weekdayAve[key]/weekdayAve['Total'])\n",
        "    weekend3[key]=\"{:.2%}\".format(weekendAve[key]/weekendAve['Total'])\n",
        "    total3[key]=\"{:.2%}\".format(totalAve[key]/totalAve['Total'])\n",
        "     #part of task 1b   \n",
        "    weekdayAve[key]=round(weekday[key]/5)\n",
        "    weekendAve[key]=round(weekend[key]/2)\n",
        "    totalAve[key]=round(total[key]/7)\n",
        "print(\"Table1\")\n",
        "for i in Table1:       \n",
        "  print(i)\n",
        "print(\"Table1\")\n",
        "for i in Table2:       \n",
        "  print(i)\n",
        "print(\"Table1\")\n",
        "for i in Table3:       \n",
        "  print(i)\n"
      ],
      "metadata": {
        "colab": {
          "base_uri": "https://localhost:8080/"
        },
        "id": "Fm6DSVPry9oh",
        "outputId": "5e8f8fad-5953-4807-eaf3-483cb4cf7336"
      },
      "execution_count": 25,
      "outputs": [
        {
          "output_type": "stream",
          "name": "stdout",
          "text": [
            "Table1\n",
            "{'Primary': 124626, 'Broker': 256084, 'E-Hail': 93699, 'Total': 474409}\n",
            "{'Primary': 15033, 'Broker': 32533, 'E-Hail': 10141, 'Total': 57707}\n",
            "{'Primary': 139659, 'Broker': 288617, 'E-Hail': 103840, 'Total': 532116}\n",
            "Table1\n",
            "{'Primary': 24925, 'Broker': 51217, 'E-Hail': 18740, 'Total': 94882}\n",
            "{'Primary': 7516, 'Broker': 16266, 'E-Hail': 5070, 'Total': 28854}\n",
            "{'Primary': 19951, 'Broker': 41231, 'E-Hail': 14834, 'Total': 76017}\n",
            "Table1\n",
            "{'Primary': '14.02%', 'Broker': '26.87%', 'E-Hail': '59.10%', 'Total': '100.00%'}\n",
            "{'Primary': '14.07%', 'Broker': '27.89%', 'E-Hail': '58.05%', 'Total': '100.00%'}\n",
            "{'Primary': '14.03%', 'Broker': '26.98%', 'E-Hail': '58.99%', 'Total': '100.00%'}\n"
          ]
        }
      ]
    },
    {
      "cell_type": "code",
      "source": [],
      "metadata": {
        "id": "_PeBXCxD9zr0"
      },
      "execution_count": null,
      "outputs": []
    },
    {
      "cell_type": "code",
      "source": [
        "#task 2\n",
        "%matplotlib inline\n",
        "import matplotlib.pyplot as plt\n",
        "import seaborn as sns\n",
        "import IPython\n",
        "IPython.display.set_matplotlib_formats('svg')\n",
        "sns.set_style(\"whitegrid\")\n",
        "sns.set_color_codes(\"muted\")\n",
        "print(sorted(histData.items(), key=lambda x: x[0]))\n",
        "\n",
        "plt.figure(figsize=(8, 4))\n",
        "ax = sns.barplot(x=list(histData.keys()), y=list(histData.values()), color=\"b\", ci=None)\n",
        "ax.set_xlabel('Hour of the Day')\n",
        "ax.set_ylabel('Number of Trips')\n",
        "\n",
        "\n"
      ],
      "metadata": {
        "colab": {
          "base_uri": "https://localhost:8080/",
          "height": 558
        },
        "id": "lOmKm7-Sxrf1",
        "outputId": "fc6374a3-ba97-4ec3-c14b-1b1b5b2f6093"
      },
      "execution_count": 26,
      "outputs": [
        {
          "output_type": "stream",
          "name": "stdout",
          "text": [
            "[(0, 67524), (1, 1064), (2, 573), (3, 531), (4, 2942), (5, 6747), (6, 13347), (7, 23519), (8, 33632), (9, 43132), (10, 44423), (11, 42017), (12, 42252), (13, 40581), (14, 37096), (15, 32157), (16, 28223), (17, 25650), (18, 22308), (19, 15562), (20, 9910), (21, 8234), (22, 6104), (23, 4251)]\n"
          ]
        },
        {
          "output_type": "stream",
          "name": "stderr",
          "text": [
            "<ipython-input-26-a9b03e0bbc38>:6: DeprecationWarning: `set_matplotlib_formats` is deprecated since IPython 7.23, directly use `matplotlib_inline.backend_inline.set_matplotlib_formats()`\n",
            "  IPython.display.set_matplotlib_formats('svg')\n",
            "<ipython-input-26-a9b03e0bbc38>:12: FutureWarning: \n",
            "\n",
            "The `ci` parameter is deprecated. Use `errorbar=None` for the same effect.\n",
            "\n",
            "  ax = sns.barplot(x=list(histData.keys()), y=list(histData.values()), color=\"b\", ci=None)\n"
          ]
        },
        {
          "output_type": "execute_result",
          "data": {
            "text/plain": [
              "Text(0, 0.5, 'Number of Trips')"
            ]
          },
          "metadata": {},
          "execution_count": 26
        },
        {
          "output_type": "display_data",
          "data": {
            "text/plain": [
              "<Figure size 800x400 with 1 Axes>"
            ],
            "image/svg+xml": "<?xml version=\"1.0\" encoding=\"utf-8\" standalone=\"no\"?>\n<!DOCTYPE svg PUBLIC \"-//W3C//DTD SVG 1.1//EN\"\n  \"http://www.w3.org/Graphics/SVG/1.1/DTD/svg11.dtd\">\n<svg xmlns:xlink=\"http://www.w3.org/1999/xlink\" width=\"513.290625pt\" height=\"267.499844pt\" viewBox=\"0 0 513.290625 267.499844\" xmlns=\"http://www.w3.org/2000/svg\" version=\"1.1\">\n <metadata>\n  <rdf:RDF xmlns:dc=\"http://purl.org/dc/elements/1.1/\" xmlns:cc=\"http://creativecommons.org/ns#\" xmlns:rdf=\"http://www.w3.org/1999/02/22-rdf-syntax-ns#\">\n   <cc:Work>\n    <dc:type rdf:resource=\"http://purl.org/dc/dcmitype/StillImage\"/>\n    <dc:date>2023-04-14T23:34:56.982718</dc:date>\n    <dc:format>image/svg+xml</dc:format>\n    <dc:creator>\n     <cc:Agent>\n      <dc:title>Matplotlib v3.7.1, https://matplotlib.org/</dc:title>\n     </cc:Agent>\n    </dc:creator>\n   </cc:Work>\n  </rdf:RDF>\n </metadata>\n <defs>\n  <style type=\"text/css\">*{stroke-linejoin: round; stroke-linecap: butt}</style>\n </defs>\n <g id=\"figure_1\">\n  <g id=\"patch_1\">\n   <path d=\"M 0 267.499844 \nL 513.290625 267.499844 \nL 513.290625 0 \nL 0 0 \nz\n\" style=\"fill: #ffffff\"/>\n  </g>\n  <g id=\"axes_1\">\n   <g id=\"patch_2\">\n    <path d=\"M 59.690625 229.943594 \nL 506.090625 229.943594 \nL 506.090625 8.183594 \nL 59.690625 8.183594 \nz\n\" style=\"fill: #ffffff\"/>\n   </g>\n   <g id=\"matplotlib.axis_1\">\n    <g id=\"xtick_1\">\n     <g id=\"text_1\">\n      <!-- 0 -->\n      <g style=\"fill: #262626\" transform=\"translate(65.809375 244.542032) scale(0.1 -0.1)\">\n       <defs>\n        <path id=\"DejaVuSans-30\" d=\"M 2034 4250 \nQ 1547 4250 1301 3770 \nQ 1056 3291 1056 2328 \nQ 1056 1369 1301 889 \nQ 1547 409 2034 409 \nQ 2525 409 2770 889 \nQ 3016 1369 3016 2328 \nQ 3016 3291 2770 3770 \nQ 2525 4250 2034 4250 \nz\nM 2034 4750 \nQ 2819 4750 3233 4129 \nQ 3647 3509 3647 2328 \nQ 3647 1150 3233 529 \nQ 2819 -91 2034 -91 \nQ 1250 -91 836 529 \nQ 422 1150 422 2328 \nQ 422 3509 836 4129 \nQ 1250 4750 2034 4750 \nz\n\" transform=\"scale(0.015625)\"/>\n       </defs>\n       <use xlink:href=\"#DejaVuSans-30\"/>\n      </g>\n     </g>\n    </g>\n    <g id=\"xtick_2\">\n     <g id=\"text_2\">\n      <!-- 1 -->\n      <g style=\"fill: #262626\" transform=\"translate(84.409375 244.542032) scale(0.1 -0.1)\">\n       <defs>\n        <path id=\"DejaVuSans-31\" d=\"M 794 531 \nL 1825 531 \nL 1825 4091 \nL 703 3866 \nL 703 4441 \nL 1819 4666 \nL 2450 4666 \nL 2450 531 \nL 3481 531 \nL 3481 0 \nL 794 0 \nL 794 531 \nz\n\" transform=\"scale(0.015625)\"/>\n       </defs>\n       <use xlink:href=\"#DejaVuSans-31\"/>\n      </g>\n     </g>\n    </g>\n    <g id=\"xtick_3\">\n     <g id=\"text_3\">\n      <!-- 2 -->\n      <g style=\"fill: #262626\" transform=\"translate(103.009375 244.542032) scale(0.1 -0.1)\">\n       <defs>\n        <path id=\"DejaVuSans-32\" d=\"M 1228 531 \nL 3431 531 \nL 3431 0 \nL 469 0 \nL 469 531 \nQ 828 903 1448 1529 \nQ 2069 2156 2228 2338 \nQ 2531 2678 2651 2914 \nQ 2772 3150 2772 3378 \nQ 2772 3750 2511 3984 \nQ 2250 4219 1831 4219 \nQ 1534 4219 1204 4116 \nQ 875 4013 500 3803 \nL 500 4441 \nQ 881 4594 1212 4672 \nQ 1544 4750 1819 4750 \nQ 2544 4750 2975 4387 \nQ 3406 4025 3406 3419 \nQ 3406 3131 3298 2873 \nQ 3191 2616 2906 2266 \nQ 2828 2175 2409 1742 \nQ 1991 1309 1228 531 \nz\n\" transform=\"scale(0.015625)\"/>\n       </defs>\n       <use xlink:href=\"#DejaVuSans-32\"/>\n      </g>\n     </g>\n    </g>\n    <g id=\"xtick_4\">\n     <g id=\"text_4\">\n      <!-- 3 -->\n      <g style=\"fill: #262626\" transform=\"translate(121.609375 244.542032) scale(0.1 -0.1)\">\n       <defs>\n        <path id=\"DejaVuSans-33\" d=\"M 2597 2516 \nQ 3050 2419 3304 2112 \nQ 3559 1806 3559 1356 \nQ 3559 666 3084 287 \nQ 2609 -91 1734 -91 \nQ 1441 -91 1130 -33 \nQ 819 25 488 141 \nL 488 750 \nQ 750 597 1062 519 \nQ 1375 441 1716 441 \nQ 2309 441 2620 675 \nQ 2931 909 2931 1356 \nQ 2931 1769 2642 2001 \nQ 2353 2234 1838 2234 \nL 1294 2234 \nL 1294 2753 \nL 1863 2753 \nQ 2328 2753 2575 2939 \nQ 2822 3125 2822 3475 \nQ 2822 3834 2567 4026 \nQ 2313 4219 1838 4219 \nQ 1578 4219 1281 4162 \nQ 984 4106 628 3988 \nL 628 4550 \nQ 988 4650 1302 4700 \nQ 1616 4750 1894 4750 \nQ 2613 4750 3031 4423 \nQ 3450 4097 3450 3541 \nQ 3450 3153 3228 2886 \nQ 3006 2619 2597 2516 \nz\n\" transform=\"scale(0.015625)\"/>\n       </defs>\n       <use xlink:href=\"#DejaVuSans-33\"/>\n      </g>\n     </g>\n    </g>\n    <g id=\"xtick_5\">\n     <g id=\"text_5\">\n      <!-- 4 -->\n      <g style=\"fill: #262626\" transform=\"translate(140.209375 244.542032) scale(0.1 -0.1)\">\n       <defs>\n        <path id=\"DejaVuSans-34\" d=\"M 2419 4116 \nL 825 1625 \nL 2419 1625 \nL 2419 4116 \nz\nM 2253 4666 \nL 3047 4666 \nL 3047 1625 \nL 3713 1625 \nL 3713 1100 \nL 3047 1100 \nL 3047 0 \nL 2419 0 \nL 2419 1100 \nL 313 1100 \nL 313 1709 \nL 2253 4666 \nz\n\" transform=\"scale(0.015625)\"/>\n       </defs>\n       <use xlink:href=\"#DejaVuSans-34\"/>\n      </g>\n     </g>\n    </g>\n    <g id=\"xtick_6\">\n     <g id=\"text_6\">\n      <!-- 5 -->\n      <g style=\"fill: #262626\" transform=\"translate(158.809375 244.542032) scale(0.1 -0.1)\">\n       <defs>\n        <path id=\"DejaVuSans-35\" d=\"M 691 4666 \nL 3169 4666 \nL 3169 4134 \nL 1269 4134 \nL 1269 2991 \nQ 1406 3038 1543 3061 \nQ 1681 3084 1819 3084 \nQ 2600 3084 3056 2656 \nQ 3513 2228 3513 1497 \nQ 3513 744 3044 326 \nQ 2575 -91 1722 -91 \nQ 1428 -91 1123 -41 \nQ 819 9 494 109 \nL 494 744 \nQ 775 591 1075 516 \nQ 1375 441 1709 441 \nQ 2250 441 2565 725 \nQ 2881 1009 2881 1497 \nQ 2881 1984 2565 2268 \nQ 2250 2553 1709 2553 \nQ 1456 2553 1204 2497 \nQ 953 2441 691 2322 \nL 691 4666 \nz\n\" transform=\"scale(0.015625)\"/>\n       </defs>\n       <use xlink:href=\"#DejaVuSans-35\"/>\n      </g>\n     </g>\n    </g>\n    <g id=\"xtick_7\">\n     <g id=\"text_7\">\n      <!-- 6 -->\n      <g style=\"fill: #262626\" transform=\"translate(177.409375 244.542032) scale(0.1 -0.1)\">\n       <defs>\n        <path id=\"DejaVuSans-36\" d=\"M 2113 2584 \nQ 1688 2584 1439 2293 \nQ 1191 2003 1191 1497 \nQ 1191 994 1439 701 \nQ 1688 409 2113 409 \nQ 2538 409 2786 701 \nQ 3034 994 3034 1497 \nQ 3034 2003 2786 2293 \nQ 2538 2584 2113 2584 \nz\nM 3366 4563 \nL 3366 3988 \nQ 3128 4100 2886 4159 \nQ 2644 4219 2406 4219 \nQ 1781 4219 1451 3797 \nQ 1122 3375 1075 2522 \nQ 1259 2794 1537 2939 \nQ 1816 3084 2150 3084 \nQ 2853 3084 3261 2657 \nQ 3669 2231 3669 1497 \nQ 3669 778 3244 343 \nQ 2819 -91 2113 -91 \nQ 1303 -91 875 529 \nQ 447 1150 447 2328 \nQ 447 3434 972 4092 \nQ 1497 4750 2381 4750 \nQ 2619 4750 2861 4703 \nQ 3103 4656 3366 4563 \nz\n\" transform=\"scale(0.015625)\"/>\n       </defs>\n       <use xlink:href=\"#DejaVuSans-36\"/>\n      </g>\n     </g>\n    </g>\n    <g id=\"xtick_8\">\n     <g id=\"text_8\">\n      <!-- 7 -->\n      <g style=\"fill: #262626\" transform=\"translate(196.009375 244.542032) scale(0.1 -0.1)\">\n       <defs>\n        <path id=\"DejaVuSans-37\" d=\"M 525 4666 \nL 3525 4666 \nL 3525 4397 \nL 1831 0 \nL 1172 0 \nL 2766 4134 \nL 525 4134 \nL 525 4666 \nz\n\" transform=\"scale(0.015625)\"/>\n       </defs>\n       <use xlink:href=\"#DejaVuSans-37\"/>\n      </g>\n     </g>\n    </g>\n    <g id=\"xtick_9\">\n     <g id=\"text_9\">\n      <!-- 8 -->\n      <g style=\"fill: #262626\" transform=\"translate(214.609375 244.542032) scale(0.1 -0.1)\">\n       <defs>\n        <path id=\"DejaVuSans-38\" d=\"M 2034 2216 \nQ 1584 2216 1326 1975 \nQ 1069 1734 1069 1313 \nQ 1069 891 1326 650 \nQ 1584 409 2034 409 \nQ 2484 409 2743 651 \nQ 3003 894 3003 1313 \nQ 3003 1734 2745 1975 \nQ 2488 2216 2034 2216 \nz\nM 1403 2484 \nQ 997 2584 770 2862 \nQ 544 3141 544 3541 \nQ 544 4100 942 4425 \nQ 1341 4750 2034 4750 \nQ 2731 4750 3128 4425 \nQ 3525 4100 3525 3541 \nQ 3525 3141 3298 2862 \nQ 3072 2584 2669 2484 \nQ 3125 2378 3379 2068 \nQ 3634 1759 3634 1313 \nQ 3634 634 3220 271 \nQ 2806 -91 2034 -91 \nQ 1263 -91 848 271 \nQ 434 634 434 1313 \nQ 434 1759 690 2068 \nQ 947 2378 1403 2484 \nz\nM 1172 3481 \nQ 1172 3119 1398 2916 \nQ 1625 2713 2034 2713 \nQ 2441 2713 2670 2916 \nQ 2900 3119 2900 3481 \nQ 2900 3844 2670 4047 \nQ 2441 4250 2034 4250 \nQ 1625 4250 1398 4047 \nQ 1172 3844 1172 3481 \nz\n\" transform=\"scale(0.015625)\"/>\n       </defs>\n       <use xlink:href=\"#DejaVuSans-38\"/>\n      </g>\n     </g>\n    </g>\n    <g id=\"xtick_10\">\n     <g id=\"text_10\">\n      <!-- 9 -->\n      <g style=\"fill: #262626\" transform=\"translate(233.209375 244.542032) scale(0.1 -0.1)\">\n       <defs>\n        <path id=\"DejaVuSans-39\" d=\"M 703 97 \nL 703 672 \nQ 941 559 1184 500 \nQ 1428 441 1663 441 \nQ 2288 441 2617 861 \nQ 2947 1281 2994 2138 \nQ 2813 1869 2534 1725 \nQ 2256 1581 1919 1581 \nQ 1219 1581 811 2004 \nQ 403 2428 403 3163 \nQ 403 3881 828 4315 \nQ 1253 4750 1959 4750 \nQ 2769 4750 3195 4129 \nQ 3622 3509 3622 2328 \nQ 3622 1225 3098 567 \nQ 2575 -91 1691 -91 \nQ 1453 -91 1209 -44 \nQ 966 3 703 97 \nz\nM 1959 2075 \nQ 2384 2075 2632 2365 \nQ 2881 2656 2881 3163 \nQ 2881 3666 2632 3958 \nQ 2384 4250 1959 4250 \nQ 1534 4250 1286 3958 \nQ 1038 3666 1038 3163 \nQ 1038 2656 1286 2365 \nQ 1534 2075 1959 2075 \nz\n\" transform=\"scale(0.015625)\"/>\n       </defs>\n       <use xlink:href=\"#DejaVuSans-39\"/>\n      </g>\n     </g>\n    </g>\n    <g id=\"xtick_11\">\n     <g id=\"text_11\">\n      <!-- 10 -->\n      <g style=\"fill: #262626\" transform=\"translate(248.628125 244.542032) scale(0.1 -0.1)\">\n       <use xlink:href=\"#DejaVuSans-31\"/>\n       <use xlink:href=\"#DejaVuSans-30\" x=\"63.623047\"/>\n      </g>\n     </g>\n    </g>\n    <g id=\"xtick_12\">\n     <g id=\"text_12\">\n      <!-- 11 -->\n      <g style=\"fill: #262626\" transform=\"translate(267.228125 244.542032) scale(0.1 -0.1)\">\n       <use xlink:href=\"#DejaVuSans-31\"/>\n       <use xlink:href=\"#DejaVuSans-31\" x=\"63.623047\"/>\n      </g>\n     </g>\n    </g>\n    <g id=\"xtick_13\">\n     <g id=\"text_13\">\n      <!-- 12 -->\n      <g style=\"fill: #262626\" transform=\"translate(285.828125 244.542032) scale(0.1 -0.1)\">\n       <use xlink:href=\"#DejaVuSans-31\"/>\n       <use xlink:href=\"#DejaVuSans-32\" x=\"63.623047\"/>\n      </g>\n     </g>\n    </g>\n    <g id=\"xtick_14\">\n     <g id=\"text_14\">\n      <!-- 13 -->\n      <g style=\"fill: #262626\" transform=\"translate(304.428125 244.542032) scale(0.1 -0.1)\">\n       <use xlink:href=\"#DejaVuSans-31\"/>\n       <use xlink:href=\"#DejaVuSans-33\" x=\"63.623047\"/>\n      </g>\n     </g>\n    </g>\n    <g id=\"xtick_15\">\n     <g id=\"text_15\">\n      <!-- 14 -->\n      <g style=\"fill: #262626\" transform=\"translate(323.028125 244.542032) scale(0.1 -0.1)\">\n       <use xlink:href=\"#DejaVuSans-31\"/>\n       <use xlink:href=\"#DejaVuSans-34\" x=\"63.623047\"/>\n      </g>\n     </g>\n    </g>\n    <g id=\"xtick_16\">\n     <g id=\"text_16\">\n      <!-- 15 -->\n      <g style=\"fill: #262626\" transform=\"translate(341.628125 244.542032) scale(0.1 -0.1)\">\n       <use xlink:href=\"#DejaVuSans-31\"/>\n       <use xlink:href=\"#DejaVuSans-35\" x=\"63.623047\"/>\n      </g>\n     </g>\n    </g>\n    <g id=\"xtick_17\">\n     <g id=\"text_17\">\n      <!-- 16 -->\n      <g style=\"fill: #262626\" transform=\"translate(360.228125 244.542032) scale(0.1 -0.1)\">\n       <use xlink:href=\"#DejaVuSans-31\"/>\n       <use xlink:href=\"#DejaVuSans-36\" x=\"63.623047\"/>\n      </g>\n     </g>\n    </g>\n    <g id=\"xtick_18\">\n     <g id=\"text_18\">\n      <!-- 17 -->\n      <g style=\"fill: #262626\" transform=\"translate(378.828125 244.542032) scale(0.1 -0.1)\">\n       <use xlink:href=\"#DejaVuSans-31\"/>\n       <use xlink:href=\"#DejaVuSans-37\" x=\"63.623047\"/>\n      </g>\n     </g>\n    </g>\n    <g id=\"xtick_19\">\n     <g id=\"text_19\">\n      <!-- 18 -->\n      <g style=\"fill: #262626\" transform=\"translate(397.428125 244.542032) scale(0.1 -0.1)\">\n       <use xlink:href=\"#DejaVuSans-31\"/>\n       <use xlink:href=\"#DejaVuSans-38\" x=\"63.623047\"/>\n      </g>\n     </g>\n    </g>\n    <g id=\"xtick_20\">\n     <g id=\"text_20\">\n      <!-- 19 -->\n      <g style=\"fill: #262626\" transform=\"translate(416.028125 244.542032) scale(0.1 -0.1)\">\n       <use xlink:href=\"#DejaVuSans-31\"/>\n       <use xlink:href=\"#DejaVuSans-39\" x=\"63.623047\"/>\n      </g>\n     </g>\n    </g>\n    <g id=\"xtick_21\">\n     <g id=\"text_21\">\n      <!-- 20 -->\n      <g style=\"fill: #262626\" transform=\"translate(434.628125 244.542032) scale(0.1 -0.1)\">\n       <use xlink:href=\"#DejaVuSans-32\"/>\n       <use xlink:href=\"#DejaVuSans-30\" x=\"63.623047\"/>\n      </g>\n     </g>\n    </g>\n    <g id=\"xtick_22\">\n     <g id=\"text_22\">\n      <!-- 21 -->\n      <g style=\"fill: #262626\" transform=\"translate(453.228125 244.542032) scale(0.1 -0.1)\">\n       <use xlink:href=\"#DejaVuSans-32\"/>\n       <use xlink:href=\"#DejaVuSans-31\" x=\"63.623047\"/>\n      </g>\n     </g>\n    </g>\n    <g id=\"xtick_23\">\n     <g id=\"text_23\">\n      <!-- 22 -->\n      <g style=\"fill: #262626\" transform=\"translate(471.828125 244.542032) scale(0.1 -0.1)\">\n       <use xlink:href=\"#DejaVuSans-32\"/>\n       <use xlink:href=\"#DejaVuSans-32\" x=\"63.623047\"/>\n      </g>\n     </g>\n    </g>\n    <g id=\"xtick_24\">\n     <g id=\"text_24\">\n      <!-- 23 -->\n      <g style=\"fill: #262626\" transform=\"translate(490.428125 244.542032) scale(0.1 -0.1)\">\n       <use xlink:href=\"#DejaVuSans-32\"/>\n       <use xlink:href=\"#DejaVuSans-33\" x=\"63.623047\"/>\n      </g>\n     </g>\n    </g>\n    <g id=\"text_25\">\n     <!-- Hour of the Day -->\n     <g style=\"fill: #262626\" transform=\"translate(243.18125 258.220157) scale(0.1 -0.1)\">\n      <defs>\n       <path id=\"DejaVuSans-48\" d=\"M 628 4666 \nL 1259 4666 \nL 1259 2753 \nL 3553 2753 \nL 3553 4666 \nL 4184 4666 \nL 4184 0 \nL 3553 0 \nL 3553 2222 \nL 1259 2222 \nL 1259 0 \nL 628 0 \nL 628 4666 \nz\n\" transform=\"scale(0.015625)\"/>\n       <path id=\"DejaVuSans-6f\" d=\"M 1959 3097 \nQ 1497 3097 1228 2736 \nQ 959 2375 959 1747 \nQ 959 1119 1226 758 \nQ 1494 397 1959 397 \nQ 2419 397 2687 759 \nQ 2956 1122 2956 1747 \nQ 2956 2369 2687 2733 \nQ 2419 3097 1959 3097 \nz\nM 1959 3584 \nQ 2709 3584 3137 3096 \nQ 3566 2609 3566 1747 \nQ 3566 888 3137 398 \nQ 2709 -91 1959 -91 \nQ 1206 -91 779 398 \nQ 353 888 353 1747 \nQ 353 2609 779 3096 \nQ 1206 3584 1959 3584 \nz\n\" transform=\"scale(0.015625)\"/>\n       <path id=\"DejaVuSans-75\" d=\"M 544 1381 \nL 544 3500 \nL 1119 3500 \nL 1119 1403 \nQ 1119 906 1312 657 \nQ 1506 409 1894 409 \nQ 2359 409 2629 706 \nQ 2900 1003 2900 1516 \nL 2900 3500 \nL 3475 3500 \nL 3475 0 \nL 2900 0 \nL 2900 538 \nQ 2691 219 2414 64 \nQ 2138 -91 1772 -91 \nQ 1169 -91 856 284 \nQ 544 659 544 1381 \nz\nM 1991 3584 \nL 1991 3584 \nz\n\" transform=\"scale(0.015625)\"/>\n       <path id=\"DejaVuSans-72\" d=\"M 2631 2963 \nQ 2534 3019 2420 3045 \nQ 2306 3072 2169 3072 \nQ 1681 3072 1420 2755 \nQ 1159 2438 1159 1844 \nL 1159 0 \nL 581 0 \nL 581 3500 \nL 1159 3500 \nL 1159 2956 \nQ 1341 3275 1631 3429 \nQ 1922 3584 2338 3584 \nQ 2397 3584 2469 3576 \nQ 2541 3569 2628 3553 \nL 2631 2963 \nz\n\" transform=\"scale(0.015625)\"/>\n       <path id=\"DejaVuSans-20\" transform=\"scale(0.015625)\"/>\n       <path id=\"DejaVuSans-66\" d=\"M 2375 4863 \nL 2375 4384 \nL 1825 4384 \nQ 1516 4384 1395 4259 \nQ 1275 4134 1275 3809 \nL 1275 3500 \nL 2222 3500 \nL 2222 3053 \nL 1275 3053 \nL 1275 0 \nL 697 0 \nL 697 3053 \nL 147 3053 \nL 147 3500 \nL 697 3500 \nL 697 3744 \nQ 697 4328 969 4595 \nQ 1241 4863 1831 4863 \nL 2375 4863 \nz\n\" transform=\"scale(0.015625)\"/>\n       <path id=\"DejaVuSans-74\" d=\"M 1172 4494 \nL 1172 3500 \nL 2356 3500 \nL 2356 3053 \nL 1172 3053 \nL 1172 1153 \nQ 1172 725 1289 603 \nQ 1406 481 1766 481 \nL 2356 481 \nL 2356 0 \nL 1766 0 \nQ 1100 0 847 248 \nQ 594 497 594 1153 \nL 594 3053 \nL 172 3053 \nL 172 3500 \nL 594 3500 \nL 594 4494 \nL 1172 4494 \nz\n\" transform=\"scale(0.015625)\"/>\n       <path id=\"DejaVuSans-68\" d=\"M 3513 2113 \nL 3513 0 \nL 2938 0 \nL 2938 2094 \nQ 2938 2591 2744 2837 \nQ 2550 3084 2163 3084 \nQ 1697 3084 1428 2787 \nQ 1159 2491 1159 1978 \nL 1159 0 \nL 581 0 \nL 581 4863 \nL 1159 4863 \nL 1159 2956 \nQ 1366 3272 1645 3428 \nQ 1925 3584 2291 3584 \nQ 2894 3584 3203 3211 \nQ 3513 2838 3513 2113 \nz\n\" transform=\"scale(0.015625)\"/>\n       <path id=\"DejaVuSans-65\" d=\"M 3597 1894 \nL 3597 1613 \nL 953 1613 \nQ 991 1019 1311 708 \nQ 1631 397 2203 397 \nQ 2534 397 2845 478 \nQ 3156 559 3463 722 \nL 3463 178 \nQ 3153 47 2828 -22 \nQ 2503 -91 2169 -91 \nQ 1331 -91 842 396 \nQ 353 884 353 1716 \nQ 353 2575 817 3079 \nQ 1281 3584 2069 3584 \nQ 2775 3584 3186 3129 \nQ 3597 2675 3597 1894 \nz\nM 3022 2063 \nQ 3016 2534 2758 2815 \nQ 2500 3097 2075 3097 \nQ 1594 3097 1305 2825 \nQ 1016 2553 972 2059 \nL 3022 2063 \nz\n\" transform=\"scale(0.015625)\"/>\n       <path id=\"DejaVuSans-44\" d=\"M 1259 4147 \nL 1259 519 \nL 2022 519 \nQ 2988 519 3436 956 \nQ 3884 1394 3884 2338 \nQ 3884 3275 3436 3711 \nQ 2988 4147 2022 4147 \nL 1259 4147 \nz\nM 628 4666 \nL 1925 4666 \nQ 3281 4666 3915 4102 \nQ 4550 3538 4550 2338 \nQ 4550 1131 3912 565 \nQ 3275 0 1925 0 \nL 628 0 \nL 628 4666 \nz\n\" transform=\"scale(0.015625)\"/>\n       <path id=\"DejaVuSans-61\" d=\"M 2194 1759 \nQ 1497 1759 1228 1600 \nQ 959 1441 959 1056 \nQ 959 750 1161 570 \nQ 1363 391 1709 391 \nQ 2188 391 2477 730 \nQ 2766 1069 2766 1631 \nL 2766 1759 \nL 2194 1759 \nz\nM 3341 1997 \nL 3341 0 \nL 2766 0 \nL 2766 531 \nQ 2569 213 2275 61 \nQ 1981 -91 1556 -91 \nQ 1019 -91 701 211 \nQ 384 513 384 1019 \nQ 384 1609 779 1909 \nQ 1175 2209 1959 2209 \nL 2766 2209 \nL 2766 2266 \nQ 2766 2663 2505 2880 \nQ 2244 3097 1772 3097 \nQ 1472 3097 1187 3025 \nQ 903 2953 641 2809 \nL 641 3341 \nQ 956 3463 1253 3523 \nQ 1550 3584 1831 3584 \nQ 2591 3584 2966 3190 \nQ 3341 2797 3341 1997 \nz\n\" transform=\"scale(0.015625)\"/>\n       <path id=\"DejaVuSans-79\" d=\"M 2059 -325 \nQ 1816 -950 1584 -1140 \nQ 1353 -1331 966 -1331 \nL 506 -1331 \nL 506 -850 \nL 844 -850 \nQ 1081 -850 1212 -737 \nQ 1344 -625 1503 -206 \nL 1606 56 \nL 191 3500 \nL 800 3500 \nL 1894 763 \nL 2988 3500 \nL 3597 3500 \nL 2059 -325 \nz\n\" transform=\"scale(0.015625)\"/>\n      </defs>\n      <use xlink:href=\"#DejaVuSans-48\"/>\n      <use xlink:href=\"#DejaVuSans-6f\" x=\"75.195312\"/>\n      <use xlink:href=\"#DejaVuSans-75\" x=\"136.376953\"/>\n      <use xlink:href=\"#DejaVuSans-72\" x=\"199.755859\"/>\n      <use xlink:href=\"#DejaVuSans-20\" x=\"240.869141\"/>\n      <use xlink:href=\"#DejaVuSans-6f\" x=\"272.65625\"/>\n      <use xlink:href=\"#DejaVuSans-66\" x=\"333.837891\"/>\n      <use xlink:href=\"#DejaVuSans-20\" x=\"369.042969\"/>\n      <use xlink:href=\"#DejaVuSans-74\" x=\"400.830078\"/>\n      <use xlink:href=\"#DejaVuSans-68\" x=\"440.039062\"/>\n      <use xlink:href=\"#DejaVuSans-65\" x=\"503.417969\"/>\n      <use xlink:href=\"#DejaVuSans-20\" x=\"564.941406\"/>\n      <use xlink:href=\"#DejaVuSans-44\" x=\"596.728516\"/>\n      <use xlink:href=\"#DejaVuSans-61\" x=\"673.730469\"/>\n      <use xlink:href=\"#DejaVuSans-79\" x=\"735.009766\"/>\n     </g>\n    </g>\n   </g>\n   <g id=\"matplotlib.axis_2\">\n    <g id=\"ytick_1\">\n     <g id=\"line2d_1\">\n      <path d=\"M 59.690625 229.943594 \nL 506.090625 229.943594 \n\" clip-path=\"url(#p982524b676)\" style=\"fill: none; stroke: #cccccc; stroke-width: 0.8; stroke-linecap: round\"/>\n     </g>\n     <g id=\"text_26\">\n      <!-- 0 -->\n      <g style=\"fill: #262626\" transform=\"translate(46.328125 233.742813) scale(0.1 -0.1)\">\n       <use xlink:href=\"#DejaVuSans-30\"/>\n      </g>\n     </g>\n    </g>\n    <g id=\"ytick_2\">\n     <g id=\"line2d_2\">\n      <path d=\"M 59.690625 198.665826 \nL 506.090625 198.665826 \n\" clip-path=\"url(#p982524b676)\" style=\"fill: none; stroke: #cccccc; stroke-width: 0.8; stroke-linecap: round\"/>\n     </g>\n     <g id=\"text_27\">\n      <!-- 10000 -->\n      <g style=\"fill: #262626\" transform=\"translate(20.878125 202.465045) scale(0.1 -0.1)\">\n       <use xlink:href=\"#DejaVuSans-31\"/>\n       <use xlink:href=\"#DejaVuSans-30\" x=\"63.623047\"/>\n       <use xlink:href=\"#DejaVuSans-30\" x=\"127.246094\"/>\n       <use xlink:href=\"#DejaVuSans-30\" x=\"190.869141\"/>\n       <use xlink:href=\"#DejaVuSans-30\" x=\"254.492188\"/>\n      </g>\n     </g>\n    </g>\n    <g id=\"ytick_3\">\n     <g id=\"line2d_3\">\n      <path d=\"M 59.690625 167.388058 \nL 506.090625 167.388058 \n\" clip-path=\"url(#p982524b676)\" style=\"fill: none; stroke: #cccccc; stroke-width: 0.8; stroke-linecap: round\"/>\n     </g>\n     <g id=\"text_28\">\n      <!-- 20000 -->\n      <g style=\"fill: #262626\" transform=\"translate(20.878125 171.187277) scale(0.1 -0.1)\">\n       <use xlink:href=\"#DejaVuSans-32\"/>\n       <use xlink:href=\"#DejaVuSans-30\" x=\"63.623047\"/>\n       <use xlink:href=\"#DejaVuSans-30\" x=\"127.246094\"/>\n       <use xlink:href=\"#DejaVuSans-30\" x=\"190.869141\"/>\n       <use xlink:href=\"#DejaVuSans-30\" x=\"254.492188\"/>\n      </g>\n     </g>\n    </g>\n    <g id=\"ytick_4\">\n     <g id=\"line2d_4\">\n      <path d=\"M 59.690625 136.11029 \nL 506.090625 136.11029 \n\" clip-path=\"url(#p982524b676)\" style=\"fill: none; stroke: #cccccc; stroke-width: 0.8; stroke-linecap: round\"/>\n     </g>\n     <g id=\"text_29\">\n      <!-- 30000 -->\n      <g style=\"fill: #262626\" transform=\"translate(20.878125 139.909509) scale(0.1 -0.1)\">\n       <use xlink:href=\"#DejaVuSans-33\"/>\n       <use xlink:href=\"#DejaVuSans-30\" x=\"63.623047\"/>\n       <use xlink:href=\"#DejaVuSans-30\" x=\"127.246094\"/>\n       <use xlink:href=\"#DejaVuSans-30\" x=\"190.869141\"/>\n       <use xlink:href=\"#DejaVuSans-30\" x=\"254.492188\"/>\n      </g>\n     </g>\n    </g>\n    <g id=\"ytick_5\">\n     <g id=\"line2d_5\">\n      <path d=\"M 59.690625 104.832522 \nL 506.090625 104.832522 \n\" clip-path=\"url(#p982524b676)\" style=\"fill: none; stroke: #cccccc; stroke-width: 0.8; stroke-linecap: round\"/>\n     </g>\n     <g id=\"text_30\">\n      <!-- 40000 -->\n      <g style=\"fill: #262626\" transform=\"translate(20.878125 108.631741) scale(0.1 -0.1)\">\n       <use xlink:href=\"#DejaVuSans-34\"/>\n       <use xlink:href=\"#DejaVuSans-30\" x=\"63.623047\"/>\n       <use xlink:href=\"#DejaVuSans-30\" x=\"127.246094\"/>\n       <use xlink:href=\"#DejaVuSans-30\" x=\"190.869141\"/>\n       <use xlink:href=\"#DejaVuSans-30\" x=\"254.492188\"/>\n      </g>\n     </g>\n    </g>\n    <g id=\"ytick_6\">\n     <g id=\"line2d_6\">\n      <path d=\"M 59.690625 73.554755 \nL 506.090625 73.554755 \n\" clip-path=\"url(#p982524b676)\" style=\"fill: none; stroke: #cccccc; stroke-width: 0.8; stroke-linecap: round\"/>\n     </g>\n     <g id=\"text_31\">\n      <!-- 50000 -->\n      <g style=\"fill: #262626\" transform=\"translate(20.878125 77.353973) scale(0.1 -0.1)\">\n       <use xlink:href=\"#DejaVuSans-35\"/>\n       <use xlink:href=\"#DejaVuSans-30\" x=\"63.623047\"/>\n       <use xlink:href=\"#DejaVuSans-30\" x=\"127.246094\"/>\n       <use xlink:href=\"#DejaVuSans-30\" x=\"190.869141\"/>\n       <use xlink:href=\"#DejaVuSans-30\" x=\"254.492188\"/>\n      </g>\n     </g>\n    </g>\n    <g id=\"ytick_7\">\n     <g id=\"line2d_7\">\n      <path d=\"M 59.690625 42.276987 \nL 506.090625 42.276987 \n\" clip-path=\"url(#p982524b676)\" style=\"fill: none; stroke: #cccccc; stroke-width: 0.8; stroke-linecap: round\"/>\n     </g>\n     <g id=\"text_32\">\n      <!-- 60000 -->\n      <g style=\"fill: #262626\" transform=\"translate(20.878125 46.076205) scale(0.1 -0.1)\">\n       <use xlink:href=\"#DejaVuSans-36\"/>\n       <use xlink:href=\"#DejaVuSans-30\" x=\"63.623047\"/>\n       <use xlink:href=\"#DejaVuSans-30\" x=\"127.246094\"/>\n       <use xlink:href=\"#DejaVuSans-30\" x=\"190.869141\"/>\n       <use xlink:href=\"#DejaVuSans-30\" x=\"254.492188\"/>\n      </g>\n     </g>\n    </g>\n    <g id=\"ytick_8\">\n     <g id=\"line2d_8\">\n      <path d=\"M 59.690625 10.999219 \nL 506.090625 10.999219 \n\" clip-path=\"url(#p982524b676)\" style=\"fill: none; stroke: #cccccc; stroke-width: 0.8; stroke-linecap: round\"/>\n     </g>\n     <g id=\"text_33\">\n      <!-- 70000 -->\n      <g style=\"fill: #262626\" transform=\"translate(20.878125 14.798437) scale(0.1 -0.1)\">\n       <use xlink:href=\"#DejaVuSans-37\"/>\n       <use xlink:href=\"#DejaVuSans-30\" x=\"63.623047\"/>\n       <use xlink:href=\"#DejaVuSans-30\" x=\"127.246094\"/>\n       <use xlink:href=\"#DejaVuSans-30\" x=\"190.869141\"/>\n       <use xlink:href=\"#DejaVuSans-30\" x=\"254.492188\"/>\n      </g>\n     </g>\n    </g>\n    <g id=\"text_34\">\n     <!-- Number of Trips -->\n     <g style=\"fill: #262626\" transform=\"translate(14.798438 158.687032) rotate(-90) scale(0.1 -0.1)\">\n      <defs>\n       <path id=\"DejaVuSans-4e\" d=\"M 628 4666 \nL 1478 4666 \nL 3547 763 \nL 3547 4666 \nL 4159 4666 \nL 4159 0 \nL 3309 0 \nL 1241 3903 \nL 1241 0 \nL 628 0 \nL 628 4666 \nz\n\" transform=\"scale(0.015625)\"/>\n       <path id=\"DejaVuSans-6d\" d=\"M 3328 2828 \nQ 3544 3216 3844 3400 \nQ 4144 3584 4550 3584 \nQ 5097 3584 5394 3201 \nQ 5691 2819 5691 2113 \nL 5691 0 \nL 5113 0 \nL 5113 2094 \nQ 5113 2597 4934 2840 \nQ 4756 3084 4391 3084 \nQ 3944 3084 3684 2787 \nQ 3425 2491 3425 1978 \nL 3425 0 \nL 2847 0 \nL 2847 2094 \nQ 2847 2600 2669 2842 \nQ 2491 3084 2119 3084 \nQ 1678 3084 1418 2786 \nQ 1159 2488 1159 1978 \nL 1159 0 \nL 581 0 \nL 581 3500 \nL 1159 3500 \nL 1159 2956 \nQ 1356 3278 1631 3431 \nQ 1906 3584 2284 3584 \nQ 2666 3584 2933 3390 \nQ 3200 3197 3328 2828 \nz\n\" transform=\"scale(0.015625)\"/>\n       <path id=\"DejaVuSans-62\" d=\"M 3116 1747 \nQ 3116 2381 2855 2742 \nQ 2594 3103 2138 3103 \nQ 1681 3103 1420 2742 \nQ 1159 2381 1159 1747 \nQ 1159 1113 1420 752 \nQ 1681 391 2138 391 \nQ 2594 391 2855 752 \nQ 3116 1113 3116 1747 \nz\nM 1159 2969 \nQ 1341 3281 1617 3432 \nQ 1894 3584 2278 3584 \nQ 2916 3584 3314 3078 \nQ 3713 2572 3713 1747 \nQ 3713 922 3314 415 \nQ 2916 -91 2278 -91 \nQ 1894 -91 1617 61 \nQ 1341 213 1159 525 \nL 1159 0 \nL 581 0 \nL 581 4863 \nL 1159 4863 \nL 1159 2969 \nz\n\" transform=\"scale(0.015625)\"/>\n       <path id=\"DejaVuSans-54\" d=\"M -19 4666 \nL 3928 4666 \nL 3928 4134 \nL 2272 4134 \nL 2272 0 \nL 1638 0 \nL 1638 4134 \nL -19 4134 \nL -19 4666 \nz\n\" transform=\"scale(0.015625)\"/>\n       <path id=\"DejaVuSans-69\" d=\"M 603 3500 \nL 1178 3500 \nL 1178 0 \nL 603 0 \nL 603 3500 \nz\nM 603 4863 \nL 1178 4863 \nL 1178 4134 \nL 603 4134 \nL 603 4863 \nz\n\" transform=\"scale(0.015625)\"/>\n       <path id=\"DejaVuSans-70\" d=\"M 1159 525 \nL 1159 -1331 \nL 581 -1331 \nL 581 3500 \nL 1159 3500 \nL 1159 2969 \nQ 1341 3281 1617 3432 \nQ 1894 3584 2278 3584 \nQ 2916 3584 3314 3078 \nQ 3713 2572 3713 1747 \nQ 3713 922 3314 415 \nQ 2916 -91 2278 -91 \nQ 1894 -91 1617 61 \nQ 1341 213 1159 525 \nz\nM 3116 1747 \nQ 3116 2381 2855 2742 \nQ 2594 3103 2138 3103 \nQ 1681 3103 1420 2742 \nQ 1159 2381 1159 1747 \nQ 1159 1113 1420 752 \nQ 1681 391 2138 391 \nQ 2594 391 2855 752 \nQ 3116 1113 3116 1747 \nz\n\" transform=\"scale(0.015625)\"/>\n       <path id=\"DejaVuSans-73\" d=\"M 2834 3397 \nL 2834 2853 \nQ 2591 2978 2328 3040 \nQ 2066 3103 1784 3103 \nQ 1356 3103 1142 2972 \nQ 928 2841 928 2578 \nQ 928 2378 1081 2264 \nQ 1234 2150 1697 2047 \nL 1894 2003 \nQ 2506 1872 2764 1633 \nQ 3022 1394 3022 966 \nQ 3022 478 2636 193 \nQ 2250 -91 1575 -91 \nQ 1294 -91 989 -36 \nQ 684 19 347 128 \nL 347 722 \nQ 666 556 975 473 \nQ 1284 391 1588 391 \nQ 1994 391 2212 530 \nQ 2431 669 2431 922 \nQ 2431 1156 2273 1281 \nQ 2116 1406 1581 1522 \nL 1381 1569 \nQ 847 1681 609 1914 \nQ 372 2147 372 2553 \nQ 372 3047 722 3315 \nQ 1072 3584 1716 3584 \nQ 2034 3584 2315 3537 \nQ 2597 3491 2834 3397 \nz\n\" transform=\"scale(0.015625)\"/>\n      </defs>\n      <use xlink:href=\"#DejaVuSans-4e\"/>\n      <use xlink:href=\"#DejaVuSans-75\" x=\"74.804688\"/>\n      <use xlink:href=\"#DejaVuSans-6d\" x=\"138.183594\"/>\n      <use xlink:href=\"#DejaVuSans-62\" x=\"235.595703\"/>\n      <use xlink:href=\"#DejaVuSans-65\" x=\"299.072266\"/>\n      <use xlink:href=\"#DejaVuSans-72\" x=\"360.595703\"/>\n      <use xlink:href=\"#DejaVuSans-20\" x=\"401.708984\"/>\n      <use xlink:href=\"#DejaVuSans-6f\" x=\"433.496094\"/>\n      <use xlink:href=\"#DejaVuSans-66\" x=\"494.677734\"/>\n      <use xlink:href=\"#DejaVuSans-20\" x=\"529.882812\"/>\n      <use xlink:href=\"#DejaVuSans-54\" x=\"561.669922\"/>\n      <use xlink:href=\"#DejaVuSans-72\" x=\"608.003906\"/>\n      <use xlink:href=\"#DejaVuSans-69\" x=\"649.117188\"/>\n      <use xlink:href=\"#DejaVuSans-70\" x=\"676.900391\"/>\n      <use xlink:href=\"#DejaVuSans-73\" x=\"740.376953\"/>\n     </g>\n    </g>\n   </g>\n   <g id=\"patch_3\">\n    <path d=\"M 61.550625 229.943594 \nL 76.430625 229.943594 \nL 76.430625 18.743594 \nL 61.550625 18.743594 \nz\n\" clip-path=\"url(#p982524b676)\" style=\"fill: #597dbf; stroke: #ffffff; stroke-linejoin: miter\"/>\n   </g>\n   <g id=\"patch_4\">\n    <path d=\"M 80.150625 229.943594 \nL 95.030625 229.943594 \nL 95.030625 226.61564 \nL 80.150625 226.61564 \nz\n\" clip-path=\"url(#p982524b676)\" style=\"fill: #597dbf; stroke: #ffffff; stroke-linejoin: miter\"/>\n   </g>\n   <g id=\"patch_5\">\n    <path d=\"M 98.750625 229.943594 \nL 113.630625 229.943594 \nL 113.630625 228.151378 \nL 98.750625 228.151378 \nz\n\" clip-path=\"url(#p982524b676)\" style=\"fill: #597dbf; stroke: #ffffff; stroke-linejoin: miter\"/>\n   </g>\n   <g id=\"patch_6\">\n    <path d=\"M 117.350625 229.943594 \nL 132.230625 229.943594 \nL 132.230625 228.282745 \nL 117.350625 228.282745 \nz\n\" clip-path=\"url(#p982524b676)\" style=\"fill: #597dbf; stroke: #ffffff; stroke-linejoin: miter\"/>\n   </g>\n   <g id=\"patch_7\">\n    <path d=\"M 135.950625 229.943594 \nL 150.830625 229.943594 \nL 150.830625 220.741675 \nL 135.950625 220.741675 \nz\n\" clip-path=\"url(#p982524b676)\" style=\"fill: #597dbf; stroke: #ffffff; stroke-linejoin: miter\"/>\n   </g>\n   <g id=\"patch_8\">\n    <path d=\"M 154.550625 229.943594 \nL 169.430625 229.943594 \nL 169.430625 208.840484 \nL 154.550625 208.840484 \nz\n\" clip-path=\"url(#p982524b676)\" style=\"fill: #597dbf; stroke: #ffffff; stroke-linejoin: miter\"/>\n   </g>\n   <g id=\"patch_9\">\n    <path d=\"M 173.150625 229.943594 \nL 188.030625 229.943594 \nL 188.030625 188.197157 \nL 173.150625 188.197157 \nz\n\" clip-path=\"url(#p982524b676)\" style=\"fill: #597dbf; stroke: #ffffff; stroke-linejoin: miter\"/>\n   </g>\n   <g id=\"patch_10\">\n    <path d=\"M 191.750625 229.943594 \nL 206.630625 229.943594 \nL 206.630625 156.381412 \nL 191.750625 156.381412 \nz\n\" clip-path=\"url(#p982524b676)\" style=\"fill: #597dbf; stroke: #ffffff; stroke-linejoin: miter\"/>\n   </g>\n   <g id=\"patch_11\">\n    <path d=\"M 210.350625 229.943594 \nL 225.230625 229.943594 \nL 225.230625 124.750205 \nL 210.350625 124.750205 \nz\n\" clip-path=\"url(#p982524b676)\" style=\"fill: #597dbf; stroke: #ffffff; stroke-linejoin: miter\"/>\n   </g>\n   <g id=\"patch_12\">\n    <path d=\"M 228.950625 229.943594 \nL 243.830625 229.943594 \nL 243.830625 95.036326 \nL 228.950625 95.036326 \nz\n\" clip-path=\"url(#p982524b676)\" style=\"fill: #597dbf; stroke: #ffffff; stroke-linejoin: miter\"/>\n   </g>\n   <g id=\"patch_13\">\n    <path d=\"M 247.550625 229.943594 \nL 262.430625 229.943594 \nL 262.430625 90.998366 \nL 247.550625 90.998366 \nz\n\" clip-path=\"url(#p982524b676)\" style=\"fill: #597dbf; stroke: #ffffff; stroke-linejoin: miter\"/>\n   </g>\n   <g id=\"patch_14\">\n    <path d=\"M 266.150625 229.943594 \nL 281.030625 229.943594 \nL 281.030625 98.523797 \nL 266.150625 98.523797 \nz\n\" clip-path=\"url(#p982524b676)\" style=\"fill: #597dbf; stroke: #ffffff; stroke-linejoin: miter\"/>\n   </g>\n   <g id=\"patch_15\">\n    <path d=\"M 284.750625 229.943594 \nL 299.630625 229.943594 \nL 299.630625 97.788769 \nL 284.750625 97.788769 \nz\n\" clip-path=\"url(#p982524b676)\" style=\"fill: #597dbf; stroke: #ffffff; stroke-linejoin: miter\"/>\n   </g>\n   <g id=\"patch_16\">\n    <path d=\"M 303.350625 229.943594 \nL 318.230625 229.943594 \nL 318.230625 103.015284 \nL 303.350625 103.015284 \nz\n\" clip-path=\"url(#p982524b676)\" style=\"fill: #597dbf; stroke: #ffffff; stroke-linejoin: miter\"/>\n   </g>\n   <g id=\"patch_17\">\n    <path d=\"M 321.950625 229.943594 \nL 336.830625 229.943594 \nL 336.830625 113.915586 \nL 321.950625 113.915586 \nz\n\" clip-path=\"url(#p982524b676)\" style=\"fill: #597dbf; stroke: #ffffff; stroke-linejoin: miter\"/>\n   </g>\n   <g id=\"patch_18\">\n    <path d=\"M 340.550625 229.943594 \nL 355.430625 229.943594 \nL 355.430625 129.363676 \nL 340.550625 129.363676 \nz\n\" clip-path=\"url(#p982524b676)\" style=\"fill: #597dbf; stroke: #ffffff; stroke-linejoin: miter\"/>\n   </g>\n   <g id=\"patch_19\">\n    <path d=\"M 359.150625 229.943594 \nL 374.030625 229.943594 \nL 374.030625 141.66835 \nL 359.150625 141.66835 \nz\n\" clip-path=\"url(#p982524b676)\" style=\"fill: #597dbf; stroke: #ffffff; stroke-linejoin: miter\"/>\n   </g>\n   <g id=\"patch_20\">\n    <path d=\"M 377.750625 229.943594 \nL 392.630625 229.943594 \nL 392.630625 149.716119 \nL 377.750625 149.716119 \nz\n\" clip-path=\"url(#p982524b676)\" style=\"fill: #597dbf; stroke: #ffffff; stroke-linejoin: miter\"/>\n   </g>\n   <g id=\"patch_21\">\n    <path d=\"M 396.350625 229.943594 \nL 411.230625 229.943594 \nL 411.230625 160.169149 \nL 396.350625 160.169149 \nz\n\" clip-path=\"url(#p982524b676)\" style=\"fill: #597dbf; stroke: #ffffff; stroke-linejoin: miter\"/>\n   </g>\n   <g id=\"patch_22\">\n    <path d=\"M 414.950625 229.943594 \nL 429.830625 229.943594 \nL 429.830625 181.269132 \nL 414.950625 181.269132 \nz\n\" clip-path=\"url(#p982524b676)\" style=\"fill: #597dbf; stroke: #ffffff; stroke-linejoin: miter\"/>\n   </g>\n   <g id=\"patch_23\">\n    <path d=\"M 433.550625 229.943594 \nL 448.430625 229.943594 \nL 448.430625 198.947326 \nL 433.550625 198.947326 \nz\n\" clip-path=\"url(#p982524b676)\" style=\"fill: #597dbf; stroke: #ffffff; stroke-linejoin: miter\"/>\n   </g>\n   <g id=\"patch_24\">\n    <path d=\"M 452.150625 229.943594 \nL 467.030625 229.943594 \nL 467.030625 204.18948 \nL 452.150625 204.18948 \nz\n\" clip-path=\"url(#p982524b676)\" style=\"fill: #597dbf; stroke: #ffffff; stroke-linejoin: miter\"/>\n   </g>\n   <g id=\"patch_25\">\n    <path d=\"M 470.750625 229.943594 \nL 485.630625 229.943594 \nL 485.630625 210.851645 \nL 470.750625 210.851645 \nz\n\" clip-path=\"url(#p982524b676)\" style=\"fill: #597dbf; stroke: #ffffff; stroke-linejoin: miter\"/>\n   </g>\n   <g id=\"patch_26\">\n    <path d=\"M 489.350625 229.943594 \nL 504.230625 229.943594 \nL 504.230625 216.647415 \nL 489.350625 216.647415 \nz\n\" clip-path=\"url(#p982524b676)\" style=\"fill: #597dbf; stroke: #ffffff; stroke-linejoin: miter\"/>\n   </g>\n   <g id=\"patch_27\">\n    <path d=\"M 59.690625 229.943594 \nL 59.690625 8.183594 \n\" style=\"fill: none; stroke: #cccccc; stroke-width: 0.8; stroke-linejoin: miter; stroke-linecap: square\"/>\n   </g>\n   <g id=\"patch_28\">\n    <path d=\"M 506.090625 229.943594 \nL 506.090625 8.183594 \n\" style=\"fill: none; stroke: #cccccc; stroke-width: 0.8; stroke-linejoin: miter; stroke-linecap: square\"/>\n   </g>\n   <g id=\"patch_29\">\n    <path d=\"M 59.690625 229.943594 \nL 506.090625 229.943594 \n\" style=\"fill: none; stroke: #cccccc; stroke-width: 0.8; stroke-linejoin: miter; stroke-linecap: square\"/>\n   </g>\n   <g id=\"patch_30\">\n    <path d=\"M 59.690625 8.183594 \nL 506.090625 8.183594 \n\" style=\"fill: none; stroke: #cccccc; stroke-width: 0.8; stroke-linejoin: miter; stroke-linecap: square\"/>\n   </g>\n  </g>\n </g>\n <defs>\n  <clipPath id=\"p982524b676\">\n   <rect x=\"59.690625\" y=\"8.183594\" width=\"446.4\" height=\"221.76\"/>\n  </clipPath>\n </defs>\n</svg>\n"
          },
          "metadata": {}
        }
      ]
    },
    {
      "cell_type": "code",
      "source": [
        "#task 3\n",
        "for i in range(10):\n",
        "  print(sorted(zipcodes.items(), key=lambda x: x[1], reverse=True)[i])\n",
        "\n"
      ],
      "metadata": {
        "colab": {
          "base_uri": "https://localhost:8080/"
        },
        "id": "3X9yct8fJ-zZ",
        "outputId": "72bf05b0-9fec-41e6-dfcd-22dcf4b68d4c"
      },
      "execution_count": 27,
      "outputs": [
        {
          "output_type": "stream",
          "name": "stdout",
          "text": [
            "('10314', 1091)\n",
            "('10304', 757)\n",
            "('11207', 720)\n",
            "('11212', 713)\n",
            "('10306', 675)\n",
            "('10301', 630)\n",
            "('11434', 594)\n",
            "('11233', 524)\n",
            "('11691', 508)\n",
            "('11236', 494)\n"
          ]
        }
      ]
    }
  ]
}